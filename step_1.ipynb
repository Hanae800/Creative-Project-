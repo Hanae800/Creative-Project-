{
  "nbformat": 4,
  "nbformat_minor": 0,
  "metadata": {
    "colab": {
      "name": "step 1.ipynb",
      "provenance": [],
      "collapsed_sections": []
    },
    "kernelspec": {
      "display_name": "Python 3",
      "name": "python3"
    }
  },
  "cells": [
    {
      "cell_type": "code",
      "metadata": {
        "id": "rblt7m1ngTdz"
      },
      "source": [
        "# we start by importing random selections\n",
        "import random \n",
        "# then import Markovify library \n",
        "import markovify\n",
        "# then import Dominate library \n",
        "import dominate\n",
        "from dominate.tags import*"
      ],
      "execution_count": null,
      "outputs": []
    },
    {
      "cell_type": "code",
      "metadata": {
        "id": "Djc7x7IJnjYE"
      },
      "source": [
        "novel = ''"
      ],
      "execution_count": 46,
      "outputs": []
    },
    {
      "cell_type": "code",
      "metadata": {
        "id": "KrFaFtvfgeNN"
      },
      "source": [
        "# copy the path of the first script below\n",
        "with open(\"shortscombined.txt\") as f:\n",
        "    text = f.read()\n"
      ],
      "execution_count": 56,
      "outputs": []
    },
    {
      "cell_type": "code",
      "metadata": {
        "colab": {
          "base_uri": "https://localhost:8080/"
        },
        "id": "p168vGmgl1ub",
        "outputId": "ca968240-a4f3-46b5-d640-ac1cf5613705"
      },
      "source": [
        "from google.colab import drive \n",
        "drive.mount ('/content/drive')"
      ],
      "execution_count": 47,
      "outputs": [
        {
          "output_type": "stream",
          "text": [
            "Drive already mounted at /content/drive; to attempt to forcibly remount, call drive.mount(\"/content/drive\", force_remount=True).\n"
          ],
          "name": "stdout"
        }
      ]
    },
    {
      "cell_type": "code",
      "metadata": {
        "id": "cjLnjlrSmb0M"
      },
      "source": [
        "text_model = markovify.Text(text)"
      ],
      "execution_count": null,
      "outputs": []
    },
    {
      "cell_type": "code",
      "metadata": {
        "id": "BLL4GLFNmlNj"
      },
      "source": [
        "for i in range(150):\n",
        "  novel += str(text_model.make_sentence())\n",
        "  r = random.randint (0,100)\n",
        "  if (r < 6):\n",
        "    novel+= \"\\n\\n\"\n",
        "  #print(nove1)\n"
      ],
      "execution_count": null,
      "outputs": []
    },
    {
      "cell_type": "code",
      "metadata": {
        "colab": {
          "base_uri": "https://localhost:8080/"
        },
        "id": "faiwpknDnrMC",
        "outputId": "52bf19e0-c691-4bad-b412-227f63f914b4"
      },
      "source": [
        "print (novel)"
      ],
      "execution_count": 50,
      "outputs": [
        {
          "output_type": "stream",
          "text": [
            "\n"
          ],
          "name": "stdout"
        }
      ]
    },
    {
      "cell_type": "code",
      "metadata": {
        "id": "_SQKl-Da-gyR"
      },
      "source": [
        "%tensorflow_version 1.x\n",
        "!pip install -q gpt-2-simple\n",
        "import gpt_2_simple as gpt2\n",
        "from datetime import datetime\n",
        "from google.colab import files"
      ],
      "execution_count": 51,
      "outputs": []
    },
    {
      "cell_type": "code",
      "metadata": {
        "colab": {
          "base_uri": "https://localhost:8080/"
        },
        "id": "afB8wN1b-jZt",
        "outputId": "4d177ac4-1da8-435e-bf1d-37858928b3e2"
      },
      "source": [
        "gpt2.download_gpt2(model_name=\"124M\")"
      ],
      "execution_count": null,
      "outputs": [
        {
          "output_type": "stream",
          "text": [
            "Fetching checkpoint: 1.05Mit [00:00, 260Mit/s]                                                      \n",
            "Fetching encoder.json: 1.05Mit [00:01, 571kit/s]\n",
            "Fetching hparams.json: 1.05Mit [00:00, 313Mit/s]                                                    \n",
            "Fetching model.ckpt.data-00000-of-00001: 498Mit [01:14, 6.71Mit/s]                                  \n",
            "Fetching model.ckpt.index: 1.05Mit [00:00, 249Mit/s]                                                \n",
            "Fetching model.ckpt.meta: 1.05Mit [00:01, 840kit/s]\n",
            "Fetching vocab.bpe: 1.05Mit [00:01, 811kit/s]\n"
          ],
          "name": "stderr"
        }
      ]
    },
    {
      "cell_type": "code",
      "metadata": {
        "colab": {
          "base_uri": "https://localhost:8080/"
        },
        "id": "N85s2ubr-nG3",
        "outputId": "b4fd26b4-2e58-4f6c-d076-48de22083818"
      },
      "source": [
        "gpt2.mount_gdrive()"
      ],
      "execution_count": null,
      "outputs": [
        {
          "output_type": "stream",
          "text": [
            "Drive already mounted at /content/drive; to attempt to forcibly remount, call drive.mount(\"/content/drive\", force_remount=True).\n"
          ],
          "name": "stdout"
        }
      ]
    },
    {
      "cell_type": "code",
      "metadata": {
        "id": "F5f2-n4W-pfo"
      },
      "source": [
        "file_name = \"Markovifytext.txt\""
      ],
      "execution_count": null,
      "outputs": []
    },
    {
      "cell_type": "code",
      "metadata": {
        "id": "BLWzDmwG-r1Z"
      },
      "source": [
        "gpt2.copy_file_from_gdrive(file_name)"
      ],
      "execution_count": null,
      "outputs": []
    },
    {
      "cell_type": "code",
      "metadata": {
        "id": "pT0N0LTC-uHL"
      },
      "source": [
        "sess = gpt2.start_tf_sess()\n",
        "\n",
        "gpt2.finetune(sess,\n",
        "              dataset=file_name,\n",
        "              model_name='124M',\n",
        "              steps=1000,\n",
        "              restore_from='fresh',\n",
        "              run_name='run1',\n",
        "              print_every=10,\n",
        "              sample_every=200,\n",
        "              save_every=500\n",
        "              )"
      ],
      "execution_count": null,
      "outputs": []
    },
    {
      "cell_type": "code",
      "metadata": {
        "id": "vg0RjZtjk62z"
      },
      "source": [
        "gpt2.copy_checkpoint_to_gdrive(run_name='run1')"
      ],
      "execution_count": null,
      "outputs": []
    }
  ]
}