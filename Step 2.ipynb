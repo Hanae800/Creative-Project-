{
  "nbformat": 4,
  "nbformat_minor": 0,
  "metadata": {
    "colab": {
      "name": "Untitled5.ipynb",
      "provenance": []
    },
    "kernelspec": {
      "name": "python3",
      "display_name": "Python 3"
    }
  },
  "cells": [
    {
      "cell_type": "code",
      "metadata": {
        "colab": {
          "base_uri": "https://localhost:8080/"
        },
        "id": "UaUTr7tr6gjV",
        "outputId": "a1e0868d-38d7-4ce5-d17d-76b13c25415e"
      },
      "source": [
        "%tensorflow_version 1.x\n",
        "!pip install -q gpt-2-simple\n",
        "import gpt_2_simple as gpt2\n",
        "from datetime import datetime\n",
        "from google.colab import files"
      ],
      "execution_count": 1,
      "outputs": [
        {
          "output_type": "stream",
          "text": [
            "TensorFlow 1.x selected.\n",
            "  Building wheel for gpt-2-simple (setup.py) ... \u001b[?25l\u001b[?25hdone\n",
            "WARNING:tensorflow:\n",
            "The TensorFlow contrib module will not be included in TensorFlow 2.0.\n",
            "For more information, please see:\n",
            "  * https://github.com/tensorflow/community/blob/master/rfcs/20180907-contrib-sunset.md\n",
            "  * https://github.com/tensorflow/addons\n",
            "  * https://github.com/tensorflow/io (for I/O related ops)\n",
            "If you depend on functionality not listed there, please file an issue.\n",
            "\n"
          ],
          "name": "stdout"
        }
      ]
    },
    {
      "cell_type": "code",
      "metadata": {
        "colab": {
          "base_uri": "https://localhost:8080/"
        },
        "id": "4AAoNXVf6il6",
        "outputId": "bfb4ee1b-4b7f-4e37-ebf8-8f353b5e377f"
      },
      "source": [
        "gpt2.download_gpt2(model_name=\"124M\")"
      ],
      "execution_count": 2,
      "outputs": [
        {
          "output_type": "stream",
          "text": [
            "Fetching checkpoint: 1.05Mit [00:00, 289Mit/s]                                                      \n",
            "Fetching encoder.json: 1.05Mit [00:00, 2.41Mit/s]\n",
            "Fetching hparams.json: 1.05Mit [00:00, 276Mit/s]                                                    \n",
            "Fetching model.ckpt.data-00000-of-00001: 498Mit [00:14, 33.5Mit/s]\n",
            "Fetching model.ckpt.index: 1.05Mit [00:00, 432Mit/s]                                                \n",
            "Fetching model.ckpt.meta: 1.05Mit [00:00, 2.83Mit/s]\n",
            "Fetching vocab.bpe: 1.05Mit [00:00, 2.95Mit/s]\n"
          ],
          "name": "stderr"
        }
      ]
    },
    {
      "cell_type": "code",
      "metadata": {
        "colab": {
          "base_uri": "https://localhost:8080/"
        },
        "id": "6T7nJdBJ6kuV",
        "outputId": "fea78668-bdee-4193-946f-cb799076b995"
      },
      "source": [
        "gpt2.mount_gdrive()"
      ],
      "execution_count": 3,
      "outputs": [
        {
          "output_type": "stream",
          "text": [
            "Mounted at /content/drive\n"
          ],
          "name": "stdout"
        }
      ]
    },
    {
      "cell_type": "code",
      "metadata": {
        "id": "AEzkibji6muU"
      },
      "source": [
        "file_name = \"Tunedtext+2001.txt\""
      ],
      "execution_count": 4,
      "outputs": []
    },
    {
      "cell_type": "code",
      "metadata": {
        "colab": {
          "base_uri": "https://localhost:8080/",
          "height": 307
        },
        "id": "5YO5Parn6om-",
        "outputId": "0ae37012-21b8-4cac-e7a3-1a718b818463"
      },
      "source": [
        "gpt2.copy_file_from_gdrive(file_name)"
      ],
      "execution_count": 5,
      "outputs": [
        {
          "output_type": "error",
          "ename": "FileNotFoundError",
          "evalue": "ignored",
          "traceback": [
            "\u001b[0;31m---------------------------------------------------------------------------\u001b[0m",
            "\u001b[0;31mFileNotFoundError\u001b[0m                         Traceback (most recent call last)",
            "\u001b[0;32m<ipython-input-5-0103766e8617>\u001b[0m in \u001b[0;36m<module>\u001b[0;34m()\u001b[0m\n\u001b[0;32m----> 1\u001b[0;31m \u001b[0mgpt2\u001b[0m\u001b[0;34m.\u001b[0m\u001b[0mcopy_file_from_gdrive\u001b[0m\u001b[0;34m(\u001b[0m\u001b[0mfile_name\u001b[0m\u001b[0;34m)\u001b[0m\u001b[0;34m\u001b[0m\u001b[0;34m\u001b[0m\u001b[0m\n\u001b[0m",
            "\u001b[0;32m/usr/local/lib/python3.6/dist-packages/gpt_2_simple/gpt_2.py\u001b[0m in \u001b[0;36mcopy_file_from_gdrive\u001b[0;34m(file_path)\u001b[0m\n\u001b[1;32m    616\u001b[0m     \u001b[0mis_mounted\u001b[0m\u001b[0;34m(\u001b[0m\u001b[0;34m)\u001b[0m\u001b[0;34m\u001b[0m\u001b[0;34m\u001b[0m\u001b[0m\n\u001b[1;32m    617\u001b[0m \u001b[0;34m\u001b[0m\u001b[0m\n\u001b[0;32m--> 618\u001b[0;31m     \u001b[0mshutil\u001b[0m\u001b[0;34m.\u001b[0m\u001b[0mcopyfile\u001b[0m\u001b[0;34m(\u001b[0m\u001b[0;34m\"/content/drive/My Drive/\"\u001b[0m \u001b[0;34m+\u001b[0m \u001b[0mfile_path\u001b[0m\u001b[0;34m,\u001b[0m \u001b[0mfile_path\u001b[0m\u001b[0;34m)\u001b[0m\u001b[0;34m\u001b[0m\u001b[0;34m\u001b[0m\u001b[0m\n\u001b[0m\u001b[1;32m    619\u001b[0m \u001b[0;34m\u001b[0m\u001b[0m\n\u001b[1;32m    620\u001b[0m \u001b[0;34m\u001b[0m\u001b[0m\n",
            "\u001b[0;32m/usr/lib/python3.6/shutil.py\u001b[0m in \u001b[0;36mcopyfile\u001b[0;34m(src, dst, follow_symlinks)\u001b[0m\n\u001b[1;32m    118\u001b[0m         \u001b[0mos\u001b[0m\u001b[0;34m.\u001b[0m\u001b[0msymlink\u001b[0m\u001b[0;34m(\u001b[0m\u001b[0mos\u001b[0m\u001b[0;34m.\u001b[0m\u001b[0mreadlink\u001b[0m\u001b[0;34m(\u001b[0m\u001b[0msrc\u001b[0m\u001b[0;34m)\u001b[0m\u001b[0;34m,\u001b[0m \u001b[0mdst\u001b[0m\u001b[0;34m)\u001b[0m\u001b[0;34m\u001b[0m\u001b[0;34m\u001b[0m\u001b[0m\n\u001b[1;32m    119\u001b[0m     \u001b[0;32melse\u001b[0m\u001b[0;34m:\u001b[0m\u001b[0;34m\u001b[0m\u001b[0;34m\u001b[0m\u001b[0m\n\u001b[0;32m--> 120\u001b[0;31m         \u001b[0;32mwith\u001b[0m \u001b[0mopen\u001b[0m\u001b[0;34m(\u001b[0m\u001b[0msrc\u001b[0m\u001b[0;34m,\u001b[0m \u001b[0;34m'rb'\u001b[0m\u001b[0;34m)\u001b[0m \u001b[0;32mas\u001b[0m \u001b[0mfsrc\u001b[0m\u001b[0;34m:\u001b[0m\u001b[0;34m\u001b[0m\u001b[0;34m\u001b[0m\u001b[0m\n\u001b[0m\u001b[1;32m    121\u001b[0m             \u001b[0;32mwith\u001b[0m \u001b[0mopen\u001b[0m\u001b[0;34m(\u001b[0m\u001b[0mdst\u001b[0m\u001b[0;34m,\u001b[0m \u001b[0;34m'wb'\u001b[0m\u001b[0;34m)\u001b[0m \u001b[0;32mas\u001b[0m \u001b[0mfdst\u001b[0m\u001b[0;34m:\u001b[0m\u001b[0;34m\u001b[0m\u001b[0;34m\u001b[0m\u001b[0m\n\u001b[1;32m    122\u001b[0m                 \u001b[0mcopyfileobj\u001b[0m\u001b[0;34m(\u001b[0m\u001b[0mfsrc\u001b[0m\u001b[0;34m,\u001b[0m \u001b[0mfdst\u001b[0m\u001b[0;34m)\u001b[0m\u001b[0;34m\u001b[0m\u001b[0;34m\u001b[0m\u001b[0m\n",
            "\u001b[0;31mFileNotFoundError\u001b[0m: [Errno 2] No such file or directory: '/content/drive/My Drive/Tunedtext+2001.txt'"
          ]
        }
      ]
    },
    {
      "cell_type": "code",
      "metadata": {
        "colab": {
          "base_uri": "https://localhost:8080/"
        },
        "id": "1Cx8CQGE6q1s",
        "outputId": "4f9b9ca8-2df8-4f06-e219-137cd9ddb29d"
      },
      "source": [
        "sess = gpt2.start_tf_sess()\n",
        "\n",
        "gpt2.finetune(sess,\n",
        "              dataset=file_name,\n",
        "              model_name='124M',\n",
        "              steps=1000,\n",
        "              restore_from='fresh',\n",
        "              run_name='run1',\n",
        "              print_every=10,\n",
        "              sample_every=200,\n",
        "              save_every=500\n",
        "              )"
      ],
      "execution_count": null,
      "outputs": [
        {
          "output_type": "stream",
          "text": [
            "WARNING:tensorflow:From /usr/local/lib/python3.6/dist-packages/gpt_2_simple/src/sample.py:17: where (from tensorflow.python.ops.array_ops) is deprecated and will be removed in a future version.\n",
            "Instructions for updating:\n",
            "Use tf.where in 2.0, which has the same broadcast rule as np.where\n",
            "Loading checkpoint models/124M/model.ckpt\n",
            "INFO:tensorflow:Restoring parameters from models/124M/model.ckpt\n"
          ],
          "name": "stdout"
        },
        {
          "output_type": "stream",
          "text": [
            "100%|██████████| 1/1 [00:00<00:00,  5.18it/s]"
          ],
          "name": "stderr"
        },
        {
          "output_type": "stream",
          "text": [
            "Loading dataset...\n",
            "dataset has 16274 tokens"
          ],
          "name": "stdout"
        },
        {
          "output_type": "stream",
          "text": [
            "\n"
          ],
          "name": "stderr"
        },
        {
          "output_type": "stream",
          "text": [
            "\n",
            "Training...\n",
            "[10 | 1032.73] loss=2.90 avg=2.90\n",
            "[20 | 2091.55] loss=2.18 avg=2.53\n",
            "[30 | 3160.61] loss=1.57 avg=2.21\n",
            "[40 | 4242.69] loss=1.70 avg=2.08\n",
            "[50 | 5321.07] loss=0.87 avg=1.83\n",
            "[60 | 6394.02] loss=0.54 avg=1.61\n",
            "[70 | 7450.14] loss=0.30 avg=1.42\n",
            "[80 | 8516.19] loss=0.28 avg=1.27\n",
            "[90 | 9606.11] loss=0.11 avg=1.14\n",
            "[100 | 10689.26] loss=0.08 avg=1.03\n",
            "[110 | 11785.10] loss=0.06 avg=0.93\n",
            "[120 | 12881.68] loss=0.05 avg=0.86\n",
            "[130 | 13964.63] loss=0.08 avg=0.79\n",
            "[140 | 15066.17] loss=0.03 avg=0.73\n",
            "[150 | 16144.24] loss=0.04 avg=0.68\n",
            "[160 | 17230.34] loss=0.04 avg=0.64\n",
            "[170 | 18341.14] loss=0.04 avg=0.60\n",
            "[180 | 19440.83] loss=0.04 avg=0.57\n",
            "[190 | 20519.63] loss=0.04 avg=0.54\n",
            "[200 | 21595.23] loss=0.09 avg=0.51\n",
            "======== SAMPLE 1 ========\n",
            "'s the most.\n",
            "Not only is she the first African-American woman to ever walk on\n",
            "Earth, she's the first African-American woman to be\n",
            "galanced a full moon.\n",
            "Really?\n",
            "That really happens.\n",
            "You've just witnessed the first\n",
            "sunset\n",
            "on Earth.\n",
            "I'm sorry, Frank, but I don't\n",
            "think I can be more pleased\n",
            "than Frank that this little family\n",
            "has been able to grow and heal over\n",
            "many generations.\n",
            "Their bright, glossy yellow sun-\n",
            "dress is a testament to their humanity;\n",
            "their pod of miseries was not only\n",
            "unacceptable but potentially fatal.\n",
            "They could not be otherwise than they are;\n",
            "they were Americans and this was another\n",
            "example of their citizenship.\n",
            "And now I should like to show you\n",
            "a TV tape of the actual\n",
            "event.\n",
            "Those who watch the news from their\n",
            "ceaselessly-run down-and-\n",
            "rapipaniess Earth orbiters know that\n",
            "the first stirrings of an alien\n",
            "power would arise in this very Earth, and\n",
            "that is why they launched the\n",
            "avoids, the Crusaders, and the\n",
            "Daisy Nogines.\n",
            "They also knew that the first\n",
            "discovery would ignite an\n",
            "almanac fire that would further civilization\n",
            "and conflagration on the other side of\n",
            "the Moon.\n",
            "And now, scientists from across the\n",
            "planet had gathered at Base Thousand-\n",
            "one to discuss the risks and\n",
            "repercusses of reentrant Earthly\n",
            "behavior.\n",
            "The four factions began to discuss the\n",
            "theme of the festivities, and concluded\n",
            "that the only true threats to\n",
            "the security of this very Planet are\n",
            "the very existence of the VISOR, and\n",
            "the imminent destruction of\n",
            "Earth-Moon.\n",
            "Then the game was on. The planets\n",
            "would justly or wrongly be\n",
            "betrayed, and the war for survival\n",
            "wouldn't end until all ships had\n",
            "passive control of their actions.\n",
            "The first CRYSTAL would do, was to silently\n",
            "betray control of their\n",
            "actions. The victors would be\n",
            "there, long ago, and the defenders\n",
            "had not yet been; so the victors would\n",
            "be. But such a state of affairs was\n",
            "too great a risk for the victors\n",
            "to be confused with any personal\n",
            "mistakes.\n",
            "With the conscious and unconscious,\n",
            "the two groups had been\n",
            "told these things many, many\n",
            "times before; but now it seemed as though\n",
            "they had been secretly deceived.\n",
            "The CRYSTALS now had a\n",
            "good explanation as to what\n",
            "they had done; and that was a dangerous\n",
            "side- effect of exposure.\n",
            "The true cause of the\n",
            "problem was not yet known,\n",
            "but the situation was extremely\n",
            "verdant and replete; and that\n",
            "could only be the case, the people\n",
            "would soon become vegetarian.\n",
            "The CRYSTALS quickly learned of the\n",
            "problem and began to modify their\n",
            "ways and practices; and this, in turn,\n",
            "led to the problem.\n",
            "The CRYSTALS began to fear\n",
            "the unknown, and to be wary of new\n",
            "behavior.\n",
            "With little thought to the problem,\n",
            "the CRYSTALS began to modify\n",
            "their ways and practices; and this,\n",
            "in turn, led to the problem.\n",
            "As the CRYSTALS became more and\n",
            "more desperate, the Control\n",
            "Group members began to become more and\n",
            "more annoying.\n",
            "The CRYSTALS became even more and\n",
            "more insistent on their refusal to\n",
            "give up.\n",
            "Over and over again, the CRYSTALS\n",
            "(pronounced \"dar-dar\") tried to stop the\n",
            "growth of the appetites, but could not\n",
            "be denied the flow of water.\n",
            "The plants grew more and more like\n",
            "cheese.\n",
            "Beatific. Though they looked positively\n",
            "epidemic-prone, the taste was\n",
            "so strong that it made one sick.\n",
            "The plants would not do this to another,\n",
            "they would use their mouth for compulsion.\n",
            "The only person who could compare and\n",
            "counter-measure their appetites was the CRYST\n",
            "GARDEN.\n",
            "We believe that no competent\n",
            "body can be held liable for\n",
            "damages caused by negligence.\n",
            "The CRYSTALS and FRIENDS\n",
            "Of the four tribes, the CRYST\n",
            "GARDENS are firmly against cruelty to\n",
            "children.\n",
            "They have always maintained that the\n",
            "only right of a free and indepen-\n",
            "dent man was to be deprived of\n",
            "his own mind and body.\n",
            "The CRYSTALS and FEMINIS\n",
            "Are Nourishing the World\n",
            "With Sickle Spots\n",
            "Flown To The Pets In Smoot\n",
            "dale's\n",
            "Fried-A-Thour Is Killing The Zoo's\n",
            "Presently The Pet\n",
            "Friedons Are Leaving The Planet\n",
            "In Protective Sleeves\n",
            "\n",
            "[210 | 22763.48] loss=0.03 avg=0.49\n",
            "[220 | 23829.26] loss=0.03 avg=0.47\n",
            "[230 | 24893.88] loss=0.02 avg=0.44\n",
            "[240 | 25957.46] loss=0.03 avg=0.42\n",
            "[250 | 27018.58] loss=0.03 avg=0.41\n",
            "[260 | 28074.79] loss=0.03 avg=0.39\n",
            "[270 | 29133.39] loss=0.03 avg=0.38\n",
            "[280 | 30193.19] loss=0.02 avg=0.36\n",
            "[290 | 31255.83] loss=0.03 avg=0.35\n",
            "[300 | 32312.59] loss=0.03 avg=0.34\n",
            "[310 | 33366.17] loss=0.03 avg=0.32\n",
            "[320 | 34418.99] loss=0.04 avg=0.31\n",
            "[330 | 35470.71] loss=0.03 avg=0.30\n",
            "[340 | 36525.80] loss=0.03 avg=0.29\n",
            "[350 | 37597.94] loss=0.02 avg=0.28\n"
          ],
          "name": "stdout"
        }
      ]
    },
    {
      "cell_type": "code",
      "metadata": {
        "id": "YPlZN67F6s2i"
      },
      "source": [
        "gpt2.copy_checkpoint_to_gdrive(run_name='run1')"
      ],
      "execution_count": null,
      "outputs": []
    }
  ]
}